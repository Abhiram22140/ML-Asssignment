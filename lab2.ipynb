{
 "cells": [
  {
   "cell_type": "code",
   "execution_count": 2,
   "metadata": {},
   "outputs": [
    {
     "name": "stdout",
     "output_type": "stream",
     "text": [
      "Dimensionality of the vector space: 21\n",
      "Number of vectors in the vector space: 10\n"
     ]
    },
    {
     "ename": "UFuncTypeError",
     "evalue": "Cannot cast ufunc 'svd_m' input from dtype('O') to dtype('float64') with casting rule 'same_kind'",
     "output_type": "error",
     "traceback": [
      "\u001b[1;31m---------------------------------------------------------------------------\u001b[0m",
      "\u001b[1;31mUFuncTypeError\u001b[0m                            Traceback (most recent call last)",
      "Cell \u001b[1;32mIn[2], line 19\u001b[0m\n\u001b[0;32m     16\u001b[0m \u001b[38;5;28mprint\u001b[39m(\u001b[38;5;124m\"\u001b[39m\u001b[38;5;124mNumber of vectors in the vector space:\u001b[39m\u001b[38;5;124m\"\u001b[39m, num_vectors)\n\u001b[0;32m     18\u001b[0m \u001b[38;5;66;03m# Rank of Matrix A\u001b[39;00m\n\u001b[1;32m---> 19\u001b[0m rank_A \u001b[38;5;241m=\u001b[39m \u001b[43mnp\u001b[49m\u001b[38;5;241;43m.\u001b[39;49m\u001b[43mlinalg\u001b[49m\u001b[38;5;241;43m.\u001b[39;49m\u001b[43mmatrix_rank\u001b[49m\u001b[43m(\u001b[49m\u001b[43mA\u001b[49m\u001b[43m)\u001b[49m\n\u001b[0;32m     20\u001b[0m \u001b[38;5;28mprint\u001b[39m(\u001b[38;5;124m\"\u001b[39m\u001b[38;5;124mRank of Matrix A:\u001b[39m\u001b[38;5;124m\"\u001b[39m, rank_A)\n",
      "File \u001b[1;32mc:\\Users\\ROG\\AppData\\Local\\Programs\\Python\\Python312\\Lib\\site-packages\\numpy\\linalg\\_linalg.py:2086\u001b[0m, in \u001b[0;36mmatrix_rank\u001b[1;34m(A, tol, hermitian, rtol)\u001b[0m\n\u001b[0;32m   2084\u001b[0m \u001b[38;5;28;01mif\u001b[39;00m A\u001b[38;5;241m.\u001b[39mndim \u001b[38;5;241m<\u001b[39m \u001b[38;5;241m2\u001b[39m:\n\u001b[0;32m   2085\u001b[0m     \u001b[38;5;28;01mreturn\u001b[39;00m \u001b[38;5;28mint\u001b[39m(\u001b[38;5;129;01mnot\u001b[39;00m \u001b[38;5;28mall\u001b[39m(A \u001b[38;5;241m==\u001b[39m \u001b[38;5;241m0\u001b[39m))\n\u001b[1;32m-> 2086\u001b[0m S \u001b[38;5;241m=\u001b[39m \u001b[43msvd\u001b[49m\u001b[43m(\u001b[49m\u001b[43mA\u001b[49m\u001b[43m,\u001b[49m\u001b[43m \u001b[49m\u001b[43mcompute_uv\u001b[49m\u001b[38;5;241;43m=\u001b[39;49m\u001b[38;5;28;43;01mFalse\u001b[39;49;00m\u001b[43m,\u001b[49m\u001b[43m \u001b[49m\u001b[43mhermitian\u001b[49m\u001b[38;5;241;43m=\u001b[39;49m\u001b[43mhermitian\u001b[49m\u001b[43m)\u001b[49m\n\u001b[0;32m   2088\u001b[0m \u001b[38;5;28;01mif\u001b[39;00m tol \u001b[38;5;129;01mis\u001b[39;00m \u001b[38;5;28;01mNone\u001b[39;00m:\n\u001b[0;32m   2089\u001b[0m     \u001b[38;5;28;01mif\u001b[39;00m rtol \u001b[38;5;129;01mis\u001b[39;00m \u001b[38;5;28;01mNone\u001b[39;00m:\n",
      "File \u001b[1;32mc:\\Users\\ROG\\AppData\\Local\\Programs\\Python\\Python312\\Lib\\site-packages\\numpy\\linalg\\_linalg.py:1811\u001b[0m, in \u001b[0;36msvd\u001b[1;34m(a, full_matrices, compute_uv, hermitian)\u001b[0m\n\u001b[0;32m   1807\u001b[0m signature \u001b[38;5;241m=\u001b[39m \u001b[38;5;124m'\u001b[39m\u001b[38;5;124mD->d\u001b[39m\u001b[38;5;124m'\u001b[39m \u001b[38;5;28;01mif\u001b[39;00m isComplexType(t) \u001b[38;5;28;01melse\u001b[39;00m \u001b[38;5;124m'\u001b[39m\u001b[38;5;124md->d\u001b[39m\u001b[38;5;124m'\u001b[39m\n\u001b[0;32m   1808\u001b[0m \u001b[38;5;28;01mwith\u001b[39;00m errstate(call\u001b[38;5;241m=\u001b[39m_raise_linalgerror_svd_nonconvergence,\n\u001b[0;32m   1809\u001b[0m               invalid\u001b[38;5;241m=\u001b[39m\u001b[38;5;124m'\u001b[39m\u001b[38;5;124mcall\u001b[39m\u001b[38;5;124m'\u001b[39m, over\u001b[38;5;241m=\u001b[39m\u001b[38;5;124m'\u001b[39m\u001b[38;5;124mignore\u001b[39m\u001b[38;5;124m'\u001b[39m, divide\u001b[38;5;241m=\u001b[39m\u001b[38;5;124m'\u001b[39m\u001b[38;5;124mignore\u001b[39m\u001b[38;5;124m'\u001b[39m,\n\u001b[0;32m   1810\u001b[0m               under\u001b[38;5;241m=\u001b[39m\u001b[38;5;124m'\u001b[39m\u001b[38;5;124mignore\u001b[39m\u001b[38;5;124m'\u001b[39m):\n\u001b[1;32m-> 1811\u001b[0m     s \u001b[38;5;241m=\u001b[39m \u001b[43mgufunc\u001b[49m\u001b[43m(\u001b[49m\u001b[43ma\u001b[49m\u001b[43m,\u001b[49m\u001b[43m \u001b[49m\u001b[43msignature\u001b[49m\u001b[38;5;241;43m=\u001b[39;49m\u001b[43msignature\u001b[49m\u001b[43m)\u001b[49m\n\u001b[0;32m   1812\u001b[0m s \u001b[38;5;241m=\u001b[39m s\u001b[38;5;241m.\u001b[39mastype(_realType(result_t), copy\u001b[38;5;241m=\u001b[39m\u001b[38;5;28;01mFalse\u001b[39;00m)\n\u001b[0;32m   1813\u001b[0m \u001b[38;5;28;01mreturn\u001b[39;00m s\n",
      "\u001b[1;31mUFuncTypeError\u001b[0m: Cannot cast ufunc 'svd_m' input from dtype('O') to dtype('float64') with casting rule 'same_kind'"
     ]
    }
   ],
   "source": [
    "import pandas as pd\n",
    "import numpy as np\n",
    "\n",
    "# Load the data\n",
    "df_purchase = pd.read_excel('C:\\\\Users\\\\ROG\\\\Desktop\\\\SEM-5\\\\ML\\\\LAB\\\\Lab Session Data.xlsx', sheet_name='Purchase data')\n",
    "\n",
    "# Segregate into matrices A (features) and C (target)\n",
    "A = df_purchase.iloc[:, :-1].values  # All columns except the last\n",
    "\n",
    "# Dimensionality of the vector space\n",
    "dimensionality = A.shape[1]\n",
    "print(\"Dimensionality of the vector space:\", dimensionality)\n",
    "\n",
    "# Number of vectors in the vector space\n",
    "num_vectors = A.shape[0]\n",
    "print(\"Number of vectors in the vector space:\", num_vectors)\n",
    "\n",
    "# Rank of Matrix A\n",
    "rank_A = np.linalg.matrix_rank(A)\n",
    "print(\"Rank of Matrix A:\", rank_A)"
   ]
  },
  {
   "cell_type": "code",
   "execution_count": null,
   "metadata": {},
   "outputs": [],
   "source": [
    "# Using the same matrix A from above and matrix C (target)\n",
    "C = df_purchase.iloc[:, -1].values  # The last column\n",
    "\n",
    "# Pseudo-Inverse to find the cost of each product\n",
    "A_pseudo_inv = np.linalg.pinv(A)\n",
    "product_costs = np.dot(A_pseudo_inv, C)\n",
    "print(\"Cost of each product:\", product_costs)\n"
   ]
  },
  {
   "cell_type": "code",
   "execution_count": null,
   "metadata": {},
   "outputs": [],
   "source": [
    "# Classify customers as RICH or POOR based on payment\n",
    "df_purchase['Category'] = ['RICH' if payment > 200 else 'POOR' for payment in C]\n",
    "print(\"Customer categories:\\n\", df_purchase[['Category']])\n"
   ]
  },
  {
   "cell_type": "code",
   "execution_count": null,
   "metadata": {},
   "outputs": [],
   "source": [
    "from sklearn.linear_model import LogisticRegression\n",
    "\n",
    "# Features (A) and target (binary classification)\n",
    "X = A\n",
    "y = (df_purchase['Category'] == 'RICH').astype(int)\n",
    "\n",
    "# Logistic Regression model\n",
    "classifier = LogisticRegression()\n",
    "classifier.fit(X, y)\n",
    "print(\"Logistic Regression model trained.\")\n"
   ]
  },
  {
   "cell_type": "code",
   "execution_count": null,
   "metadata": {},
   "outputs": [],
   "source": [
    "import statistics\n",
    "\n",
    "# Load IRCTC Stock Price data\n",
    "df_stock = pd.read_excel(file_path, sheet_name='IRCTC Stock Price')\n",
    "\n",
    "# Mean and variance of the Price data\n",
    "price_mean = statistics.mean(df_stock['Price'])\n",
    "price_variance = statistics.variance(df_stock['Price'])\n",
    "print(\"Mean of Price data:\", price_mean)\n",
    "print(\"Variance of Price data:\", price_variance)\n"
   ]
  },
  {
   "cell_type": "code",
   "execution_count": null,
   "metadata": {},
   "outputs": [],
   "source": [
    "# Mean of price data for Wednesdays\n",
    "wednesday_mean = df_stock[df_stock['Day'] == 'Wednesday']['Price'].mean()\n",
    "print(\"Mean of Price data on Wednesdays:\", wednesday_mean)\n",
    "\n",
    "# Mean of price data for April\n",
    "april_mean = df_stock[df_stock['Date'].dt.month == 4]['Price'].mean()\n",
    "print(\"Mean of Price data in April:\", april_mean)\n"
   ]
  },
  {
   "cell_type": "code",
   "execution_count": null,
   "metadata": {},
   "outputs": [],
   "source": [
    "# Probability of making a loss (negative Chg%)\n",
    "loss_prob = (df_stock['Chg%'] < 0).mean()\n",
    "print(\"Probability of making a loss:\", loss_prob)\n",
    "\n",
    "# Probability of making a profit on Wednesday\n",
    "profit_wed_prob = ((df_stock['Chg%'] > 0) & (df_stock['Day'] == 'Wednesday')).mean()\n",
    "print(\"Probability of making a profit on Wednesday:\", profit_wed_prob)\n"
   ]
  },
  {
   "cell_type": "code",
   "execution_count": null,
   "metadata": {},
   "outputs": [],
   "source": [
    "# Conditional probability of making profit given it's Wednesday\n",
    "conditional_profit_prob = profit_wed_prob / (df_stock['Day'] == 'Wednesday').mean()\n",
    "print(\"Conditional probability of making profit given it's Wednesday:\", conditional_profit_prob)\n"
   ]
  },
  {
   "cell_type": "code",
   "execution_count": null,
   "metadata": {},
   "outputs": [],
   "source": [
    "# Load the thyroid dataset\n",
    "df_thyroid = pd.read_excel(file_path, sheet_name='thyroid0387_UCI')\n",
    "\n",
    "# Explore data types, missing values, and outliers\n",
    "print(\"Data types:\\n\", df_thyroid.dtypes)\n",
    "print(\"Missing values:\\n\", df_thyroid.isnull().sum())\n",
    "\n",
    "# Data imputation\n",
    "for col in df_thyroid.columns:\n",
    "    if df_thyroid[col].dtype == 'object':\n",
    "        df_thyroid[col].fillna(df_thyroid[col].mode()[0], inplace=True)\n",
    "    else:\n",
    "        if df_thyroid[col].skew() < 1:\n",
    "            df_thyroid[col].fillna(df_thyroid[col].mean(), inplace=True)\n",
    "        else:\n",
    "            df_thyroid[col].fillna(df_thyroid[col].median(), inplace=True)\n",
    "\n",
    "print(\"Data after imputation:\\n\", df_thyroid.head())\n"
   ]
  },
  {
   "cell_type": "code",
   "execution_count": null,
   "metadata": {},
   "outputs": [],
   "source": [
    "# Calculate Jaccard Coefficient (JC) and Simple Matching Coefficient (SMC)\n",
    "def jaccard_coefficient(v1, v2):\n",
    "    intersection = np.sum(np.logical_and(v1, v2))\n",
    "    union = np.sum(np.logical_or(v1, v2))\n",
    "    return intersection / union\n",
    "\n",
    "def simple_matching_coefficient(v1, v2):\n",
    "    matches = np.sum(v1 == v2)\n",
    "    return matches / len(v1)\n",
    "\n",
    "# Use first two observation vectors\n",
    "v1, v2 = df_thyroid.iloc[0, :].values, df_thyroid.iloc[1, :].values\n",
    "\n",
    "# Binary vectors (example)\n",
    "v1_binary, v2_binary = np.round(v1), np.round(v2)\n",
    "\n",
    "# Calculate JC and SMC\n",
    "jc = jaccard_coefficient(v1_binary, v2_binary)\n",
    "smc = simple_matching_coefficient(v1_binary, v2_binary)\n",
    "print(\"Jaccard Coefficient:\", jc)\n",
    "print(\"Simple Matching Coefficient:\", smc)\n"
   ]
  }
 ],
 "metadata": {
  "kernelspec": {
   "display_name": "Python 3",
   "language": "python",
   "name": "python3"
  },
  "language_info": {
   "codemirror_mode": {
    "name": "ipython",
    "version": 3
   },
   "file_extension": ".py",
   "mimetype": "text/x-python",
   "name": "python",
   "nbconvert_exporter": "python",
   "pygments_lexer": "ipython3",
   "version": "3.12.4"
  }
 },
 "nbformat": 4,
 "nbformat_minor": 2
}
